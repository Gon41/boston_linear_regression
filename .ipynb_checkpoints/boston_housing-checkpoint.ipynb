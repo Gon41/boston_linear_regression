{
 "cells": [
  {
   "cell_type": "code",
   "execution_count": 161,
   "metadata": {},
   "outputs": [],
   "source": [
    "from sklearn.datasets import load_boston\n",
    "import pandas as pd\n",
    "from sklearn.linear_model import LinearRegression\n",
    "from sklearn.metrics import r2_score\n",
    "from sklearn.metrics import mean_squared_error\n",
    "import seaborn as sns\n",
    "from sklearn.model_selection import train_test_split"
   ]
  },
  {
   "cell_type": "markdown",
   "metadata": {},
   "source": [
    "Use `load_boston` to load the Boston Housing Dataset.\n",
    "You must create a Linear Regression model fitted to this data to predict house prices.\n",
    "\n",
    "- Check the data for nulls\n",
    "- Explore the data, distributions, correlations.\n",
    "- Take that into mind when choosing the features for your model.\n",
    "- Watch out for colinearity.\n",
    "- Split your data into train and test. [Check out how!](https://scikit-learn.org/stable/modules/generated/sklearn.model_selection.train_test_split.html)\n",
    "- Measure the goodness of your fit! $R^2$, $RMSE$, etc.\n",
    "- Try to make it better.\n",
    "- Do your own research. Checkout both sklearn and statsmodels, get a feel of both.\n",
    "- Have fun.\n"
   ]
  },
  {
   "cell_type": "markdown",
   "metadata": {},
   "source": [
    "# 1. Check the data and check nulls"
   ]
  },
  {
   "cell_type": "code",
   "execution_count": 94,
   "metadata": {
    "scrolled": true
   },
   "outputs": [
    {
     "data": {
      "text/html": [
       "<div>\n",
       "<style scoped>\n",
       "    .dataframe tbody tr th:only-of-type {\n",
       "        vertical-align: middle;\n",
       "    }\n",
       "\n",
       "    .dataframe tbody tr th {\n",
       "        vertical-align: top;\n",
       "    }\n",
       "\n",
       "    .dataframe thead th {\n",
       "        text-align: right;\n",
       "    }\n",
       "</style>\n",
       "<table border=\"1\" class=\"dataframe\">\n",
       "  <thead>\n",
       "    <tr style=\"text-align: right;\">\n",
       "      <th></th>\n",
       "      <th>CRIM</th>\n",
       "      <th>ZN</th>\n",
       "      <th>INDUS</th>\n",
       "      <th>CHAS</th>\n",
       "      <th>NOX</th>\n",
       "      <th>RM</th>\n",
       "      <th>AGE</th>\n",
       "      <th>DIS</th>\n",
       "      <th>RAD</th>\n",
       "      <th>TAX</th>\n",
       "      <th>PTRATIO</th>\n",
       "      <th>B</th>\n",
       "      <th>LSTAT</th>\n",
       "    </tr>\n",
       "  </thead>\n",
       "  <tbody>\n",
       "    <tr>\n",
       "      <th>0</th>\n",
       "      <td>0.00632</td>\n",
       "      <td>18.0</td>\n",
       "      <td>2.31</td>\n",
       "      <td>0.0</td>\n",
       "      <td>0.538</td>\n",
       "      <td>6.575</td>\n",
       "      <td>65.2</td>\n",
       "      <td>4.0900</td>\n",
       "      <td>1.0</td>\n",
       "      <td>296.0</td>\n",
       "      <td>15.3</td>\n",
       "      <td>396.90</td>\n",
       "      <td>4.98</td>\n",
       "    </tr>\n",
       "    <tr>\n",
       "      <th>1</th>\n",
       "      <td>0.02731</td>\n",
       "      <td>0.0</td>\n",
       "      <td>7.07</td>\n",
       "      <td>0.0</td>\n",
       "      <td>0.469</td>\n",
       "      <td>6.421</td>\n",
       "      <td>78.9</td>\n",
       "      <td>4.9671</td>\n",
       "      <td>2.0</td>\n",
       "      <td>242.0</td>\n",
       "      <td>17.8</td>\n",
       "      <td>396.90</td>\n",
       "      <td>9.14</td>\n",
       "    </tr>\n",
       "    <tr>\n",
       "      <th>2</th>\n",
       "      <td>0.02729</td>\n",
       "      <td>0.0</td>\n",
       "      <td>7.07</td>\n",
       "      <td>0.0</td>\n",
       "      <td>0.469</td>\n",
       "      <td>7.185</td>\n",
       "      <td>61.1</td>\n",
       "      <td>4.9671</td>\n",
       "      <td>2.0</td>\n",
       "      <td>242.0</td>\n",
       "      <td>17.8</td>\n",
       "      <td>392.83</td>\n",
       "      <td>4.03</td>\n",
       "    </tr>\n",
       "    <tr>\n",
       "      <th>3</th>\n",
       "      <td>0.03237</td>\n",
       "      <td>0.0</td>\n",
       "      <td>2.18</td>\n",
       "      <td>0.0</td>\n",
       "      <td>0.458</td>\n",
       "      <td>6.998</td>\n",
       "      <td>45.8</td>\n",
       "      <td>6.0622</td>\n",
       "      <td>3.0</td>\n",
       "      <td>222.0</td>\n",
       "      <td>18.7</td>\n",
       "      <td>394.63</td>\n",
       "      <td>2.94</td>\n",
       "    </tr>\n",
       "    <tr>\n",
       "      <th>4</th>\n",
       "      <td>0.06905</td>\n",
       "      <td>0.0</td>\n",
       "      <td>2.18</td>\n",
       "      <td>0.0</td>\n",
       "      <td>0.458</td>\n",
       "      <td>7.147</td>\n",
       "      <td>54.2</td>\n",
       "      <td>6.0622</td>\n",
       "      <td>3.0</td>\n",
       "      <td>222.0</td>\n",
       "      <td>18.7</td>\n",
       "      <td>396.90</td>\n",
       "      <td>5.33</td>\n",
       "    </tr>\n",
       "  </tbody>\n",
       "</table>\n",
       "</div>"
      ],
      "text/plain": [
       "      CRIM    ZN  INDUS  CHAS    NOX     RM   AGE     DIS  RAD    TAX  \\\n",
       "0  0.00632  18.0   2.31   0.0  0.538  6.575  65.2  4.0900  1.0  296.0   \n",
       "1  0.02731   0.0   7.07   0.0  0.469  6.421  78.9  4.9671  2.0  242.0   \n",
       "2  0.02729   0.0   7.07   0.0  0.469  7.185  61.1  4.9671  2.0  242.0   \n",
       "3  0.03237   0.0   2.18   0.0  0.458  6.998  45.8  6.0622  3.0  222.0   \n",
       "4  0.06905   0.0   2.18   0.0  0.458  7.147  54.2  6.0622  3.0  222.0   \n",
       "\n",
       "   PTRATIO       B  LSTAT  \n",
       "0     15.3  396.90   4.98  \n",
       "1     17.8  396.90   9.14  \n",
       "2     17.8  392.83   4.03  \n",
       "3     18.7  394.63   2.94  \n",
       "4     18.7  396.90   5.33  "
      ]
     },
     "execution_count": 94,
     "metadata": {},
     "output_type": "execute_result"
    }
   ],
   "source": [
    "# load_boston es un dataset con datos de vivienda de Boston.\n",
    "\n",
    "# Cargo el dataset\n",
    "\n",
    "X,y = load_boston(return_X_y=True)\n",
    "\n",
    "X = pd.DataFrame(X)\n",
    "y = pd.DataFrame(y)\n",
    "\n",
    "X.columns = load_boston()[\"feature_names\"]\n",
    "\n",
    "X.head()"
   ]
  },
  {
   "cell_type": "code",
   "execution_count": 95,
   "metadata": {
    "scrolled": false
   },
   "outputs": [
    {
     "data": {
      "text/html": [
       "<div>\n",
       "<style scoped>\n",
       "    .dataframe tbody tr th:only-of-type {\n",
       "        vertical-align: middle;\n",
       "    }\n",
       "\n",
       "    .dataframe tbody tr th {\n",
       "        vertical-align: top;\n",
       "    }\n",
       "\n",
       "    .dataframe thead th {\n",
       "        text-align: right;\n",
       "    }\n",
       "</style>\n",
       "<table border=\"1\" class=\"dataframe\">\n",
       "  <thead>\n",
       "    <tr style=\"text-align: right;\">\n",
       "      <th></th>\n",
       "      <th>0</th>\n",
       "    </tr>\n",
       "  </thead>\n",
       "  <tbody>\n",
       "    <tr>\n",
       "      <th>0</th>\n",
       "      <td>24.0</td>\n",
       "    </tr>\n",
       "    <tr>\n",
       "      <th>1</th>\n",
       "      <td>21.6</td>\n",
       "    </tr>\n",
       "    <tr>\n",
       "      <th>2</th>\n",
       "      <td>34.7</td>\n",
       "    </tr>\n",
       "    <tr>\n",
       "      <th>3</th>\n",
       "      <td>33.4</td>\n",
       "    </tr>\n",
       "    <tr>\n",
       "      <th>4</th>\n",
       "      <td>36.2</td>\n",
       "    </tr>\n",
       "  </tbody>\n",
       "</table>\n",
       "</div>"
      ],
      "text/plain": [
       "      0\n",
       "0  24.0\n",
       "1  21.6\n",
       "2  34.7\n",
       "3  33.4\n",
       "4  36.2"
      ]
     },
     "execution_count": 95,
     "metadata": {},
     "output_type": "execute_result"
    }
   ],
   "source": [
    "y.head()"
   ]
  },
  {
   "cell_type": "code",
   "execution_count": 96,
   "metadata": {},
   "outputs": [
    {
     "data": {
      "text/plain": [
       "CRIM       0\n",
       "ZN         0\n",
       "INDUS      0\n",
       "CHAS       0\n",
       "NOX        0\n",
       "RM         0\n",
       "AGE        0\n",
       "DIS        0\n",
       "RAD        0\n",
       "TAX        0\n",
       "PTRATIO    0\n",
       "B          0\n",
       "LSTAT      0\n",
       "dtype: int64"
      ]
     },
     "execution_count": 96,
     "metadata": {},
     "output_type": "execute_result"
    }
   ],
   "source": [
    "# Veo si hay nulos en X. (No hay nulos)\n",
    "\n",
    "X.isnull().sum()"
   ]
  },
  {
   "cell_type": "code",
   "execution_count": 97,
   "metadata": {
    "scrolled": true
   },
   "outputs": [
    {
     "data": {
      "text/plain": [
       "0    0\n",
       "dtype: int64"
      ]
     },
     "execution_count": 97,
     "metadata": {},
     "output_type": "execute_result"
    }
   ],
   "source": [
    "# Veo si hay nulos en y. (No hay nulos)\n",
    "\n",
    "y.isnull().sum()"
   ]
  },
  {
   "cell_type": "markdown",
   "metadata": {},
   "source": [
    "# 2. Explore the data, distributions, correlations."
   ]
  },
  {
   "cell_type": "code",
   "execution_count": 98,
   "metadata": {},
   "outputs": [
    {
     "name": "stdout",
     "output_type": "stream",
     "text": [
      "Tamaño de X (506, 13)\n",
      "Tamaño de y (506, 1)\n"
     ]
    }
   ],
   "source": [
    "# Tamaño de los dataFrame\n",
    "\n",
    "print(\"Tamaño de X\", X.shape)\n",
    "print(\"Tamaño de y\", y.shape)"
   ]
  },
  {
   "cell_type": "code",
   "execution_count": 99,
   "metadata": {},
   "outputs": [
    {
     "name": "stdout",
     "output_type": "stream",
     "text": [
      "0\n",
      "277\n"
     ]
    }
   ],
   "source": [
    "# Duplicados\n",
    "\n",
    "print(X.duplicated().sum())\n",
    "print(y.duplicated().sum())"
   ]
  },
  {
   "cell_type": "code",
   "execution_count": 100,
   "metadata": {
    "scrolled": true
   },
   "outputs": [
    {
     "name": "stdout",
     "output_type": "stream",
     "text": [
      "<class 'pandas.core.frame.DataFrame'>\n",
      "RangeIndex: 506 entries, 0 to 505\n",
      "Data columns (total 13 columns):\n",
      " #   Column   Non-Null Count  Dtype  \n",
      "---  ------   --------------  -----  \n",
      " 0   CRIM     506 non-null    float64\n",
      " 1   ZN       506 non-null    float64\n",
      " 2   INDUS    506 non-null    float64\n",
      " 3   CHAS     506 non-null    float64\n",
      " 4   NOX      506 non-null    float64\n",
      " 5   RM       506 non-null    float64\n",
      " 6   AGE      506 non-null    float64\n",
      " 7   DIS      506 non-null    float64\n",
      " 8   RAD      506 non-null    float64\n",
      " 9   TAX      506 non-null    float64\n",
      " 10  PTRATIO  506 non-null    float64\n",
      " 11  B        506 non-null    float64\n",
      " 12  LSTAT    506 non-null    float64\n",
      "dtypes: float64(13)\n",
      "memory usage: 51.5 KB\n"
     ]
    }
   ],
   "source": [
    "# Información básica. Todos las columnas tienen el mismo tipo (float64)\n",
    "\n",
    "X.info()"
   ]
  },
  {
   "cell_type": "code",
   "execution_count": 101,
   "metadata": {
    "scrolled": true
   },
   "outputs": [
    {
     "data": {
      "text/html": [
       "<div>\n",
       "<style scoped>\n",
       "    .dataframe tbody tr th:only-of-type {\n",
       "        vertical-align: middle;\n",
       "    }\n",
       "\n",
       "    .dataframe tbody tr th {\n",
       "        vertical-align: top;\n",
       "    }\n",
       "\n",
       "    .dataframe thead th {\n",
       "        text-align: right;\n",
       "    }\n",
       "</style>\n",
       "<table border=\"1\" class=\"dataframe\">\n",
       "  <thead>\n",
       "    <tr style=\"text-align: right;\">\n",
       "      <th></th>\n",
       "      <th>CRIM</th>\n",
       "      <th>ZN</th>\n",
       "      <th>INDUS</th>\n",
       "      <th>CHAS</th>\n",
       "      <th>NOX</th>\n",
       "      <th>RM</th>\n",
       "      <th>AGE</th>\n",
       "      <th>DIS</th>\n",
       "      <th>RAD</th>\n",
       "      <th>TAX</th>\n",
       "      <th>PTRATIO</th>\n",
       "      <th>B</th>\n",
       "      <th>LSTAT</th>\n",
       "    </tr>\n",
       "  </thead>\n",
       "  <tbody>\n",
       "    <tr>\n",
       "      <th>count</th>\n",
       "      <td>506.000000</td>\n",
       "      <td>506.000000</td>\n",
       "      <td>506.000000</td>\n",
       "      <td>506.000000</td>\n",
       "      <td>506.000000</td>\n",
       "      <td>506.000000</td>\n",
       "      <td>506.000000</td>\n",
       "      <td>506.000000</td>\n",
       "      <td>506.000000</td>\n",
       "      <td>506.000000</td>\n",
       "      <td>506.000000</td>\n",
       "      <td>506.000000</td>\n",
       "      <td>506.000000</td>\n",
       "    </tr>\n",
       "    <tr>\n",
       "      <th>mean</th>\n",
       "      <td>3.613524</td>\n",
       "      <td>11.363636</td>\n",
       "      <td>11.136779</td>\n",
       "      <td>0.069170</td>\n",
       "      <td>0.554695</td>\n",
       "      <td>6.284634</td>\n",
       "      <td>68.574901</td>\n",
       "      <td>3.795043</td>\n",
       "      <td>9.549407</td>\n",
       "      <td>408.237154</td>\n",
       "      <td>18.455534</td>\n",
       "      <td>356.674032</td>\n",
       "      <td>12.653063</td>\n",
       "    </tr>\n",
       "    <tr>\n",
       "      <th>std</th>\n",
       "      <td>8.601545</td>\n",
       "      <td>23.322453</td>\n",
       "      <td>6.860353</td>\n",
       "      <td>0.253994</td>\n",
       "      <td>0.115878</td>\n",
       "      <td>0.702617</td>\n",
       "      <td>28.148861</td>\n",
       "      <td>2.105710</td>\n",
       "      <td>8.707259</td>\n",
       "      <td>168.537116</td>\n",
       "      <td>2.164946</td>\n",
       "      <td>91.294864</td>\n",
       "      <td>7.141062</td>\n",
       "    </tr>\n",
       "    <tr>\n",
       "      <th>min</th>\n",
       "      <td>0.006320</td>\n",
       "      <td>0.000000</td>\n",
       "      <td>0.460000</td>\n",
       "      <td>0.000000</td>\n",
       "      <td>0.385000</td>\n",
       "      <td>3.561000</td>\n",
       "      <td>2.900000</td>\n",
       "      <td>1.129600</td>\n",
       "      <td>1.000000</td>\n",
       "      <td>187.000000</td>\n",
       "      <td>12.600000</td>\n",
       "      <td>0.320000</td>\n",
       "      <td>1.730000</td>\n",
       "    </tr>\n",
       "    <tr>\n",
       "      <th>25%</th>\n",
       "      <td>0.082045</td>\n",
       "      <td>0.000000</td>\n",
       "      <td>5.190000</td>\n",
       "      <td>0.000000</td>\n",
       "      <td>0.449000</td>\n",
       "      <td>5.885500</td>\n",
       "      <td>45.025000</td>\n",
       "      <td>2.100175</td>\n",
       "      <td>4.000000</td>\n",
       "      <td>279.000000</td>\n",
       "      <td>17.400000</td>\n",
       "      <td>375.377500</td>\n",
       "      <td>6.950000</td>\n",
       "    </tr>\n",
       "    <tr>\n",
       "      <th>50%</th>\n",
       "      <td>0.256510</td>\n",
       "      <td>0.000000</td>\n",
       "      <td>9.690000</td>\n",
       "      <td>0.000000</td>\n",
       "      <td>0.538000</td>\n",
       "      <td>6.208500</td>\n",
       "      <td>77.500000</td>\n",
       "      <td>3.207450</td>\n",
       "      <td>5.000000</td>\n",
       "      <td>330.000000</td>\n",
       "      <td>19.050000</td>\n",
       "      <td>391.440000</td>\n",
       "      <td>11.360000</td>\n",
       "    </tr>\n",
       "    <tr>\n",
       "      <th>75%</th>\n",
       "      <td>3.677083</td>\n",
       "      <td>12.500000</td>\n",
       "      <td>18.100000</td>\n",
       "      <td>0.000000</td>\n",
       "      <td>0.624000</td>\n",
       "      <td>6.623500</td>\n",
       "      <td>94.075000</td>\n",
       "      <td>5.188425</td>\n",
       "      <td>24.000000</td>\n",
       "      <td>666.000000</td>\n",
       "      <td>20.200000</td>\n",
       "      <td>396.225000</td>\n",
       "      <td>16.955000</td>\n",
       "    </tr>\n",
       "    <tr>\n",
       "      <th>max</th>\n",
       "      <td>88.976200</td>\n",
       "      <td>100.000000</td>\n",
       "      <td>27.740000</td>\n",
       "      <td>1.000000</td>\n",
       "      <td>0.871000</td>\n",
       "      <td>8.780000</td>\n",
       "      <td>100.000000</td>\n",
       "      <td>12.126500</td>\n",
       "      <td>24.000000</td>\n",
       "      <td>711.000000</td>\n",
       "      <td>22.000000</td>\n",
       "      <td>396.900000</td>\n",
       "      <td>37.970000</td>\n",
       "    </tr>\n",
       "  </tbody>\n",
       "</table>\n",
       "</div>"
      ],
      "text/plain": [
       "             CRIM          ZN       INDUS        CHAS         NOX          RM  \\\n",
       "count  506.000000  506.000000  506.000000  506.000000  506.000000  506.000000   \n",
       "mean     3.613524   11.363636   11.136779    0.069170    0.554695    6.284634   \n",
       "std      8.601545   23.322453    6.860353    0.253994    0.115878    0.702617   \n",
       "min      0.006320    0.000000    0.460000    0.000000    0.385000    3.561000   \n",
       "25%      0.082045    0.000000    5.190000    0.000000    0.449000    5.885500   \n",
       "50%      0.256510    0.000000    9.690000    0.000000    0.538000    6.208500   \n",
       "75%      3.677083   12.500000   18.100000    0.000000    0.624000    6.623500   \n",
       "max     88.976200  100.000000   27.740000    1.000000    0.871000    8.780000   \n",
       "\n",
       "              AGE         DIS         RAD         TAX     PTRATIO           B  \\\n",
       "count  506.000000  506.000000  506.000000  506.000000  506.000000  506.000000   \n",
       "mean    68.574901    3.795043    9.549407  408.237154   18.455534  356.674032   \n",
       "std     28.148861    2.105710    8.707259  168.537116    2.164946   91.294864   \n",
       "min      2.900000    1.129600    1.000000  187.000000   12.600000    0.320000   \n",
       "25%     45.025000    2.100175    4.000000  279.000000   17.400000  375.377500   \n",
       "50%     77.500000    3.207450    5.000000  330.000000   19.050000  391.440000   \n",
       "75%     94.075000    5.188425   24.000000  666.000000   20.200000  396.225000   \n",
       "max    100.000000   12.126500   24.000000  711.000000   22.000000  396.900000   \n",
       "\n",
       "            LSTAT  \n",
       "count  506.000000  \n",
       "mean    12.653063  \n",
       "std      7.141062  \n",
       "min      1.730000  \n",
       "25%      6.950000  \n",
       "50%     11.360000  \n",
       "75%     16.955000  \n",
       "max     37.970000  "
      ]
     },
     "execution_count": 101,
     "metadata": {},
     "output_type": "execute_result"
    }
   ],
   "source": [
    "X.describe()"
   ]
  },
  {
   "cell_type": "code",
   "execution_count": 102,
   "metadata": {
    "scrolled": true
   },
   "outputs": [
    {
     "data": {
      "text/html": [
       "<div>\n",
       "<style scoped>\n",
       "    .dataframe tbody tr th:only-of-type {\n",
       "        vertical-align: middle;\n",
       "    }\n",
       "\n",
       "    .dataframe tbody tr th {\n",
       "        vertical-align: top;\n",
       "    }\n",
       "\n",
       "    .dataframe thead th {\n",
       "        text-align: right;\n",
       "    }\n",
       "</style>\n",
       "<table border=\"1\" class=\"dataframe\">\n",
       "  <thead>\n",
       "    <tr style=\"text-align: right;\">\n",
       "      <th></th>\n",
       "      <th>0</th>\n",
       "    </tr>\n",
       "  </thead>\n",
       "  <tbody>\n",
       "    <tr>\n",
       "      <th>count</th>\n",
       "      <td>506.000000</td>\n",
       "    </tr>\n",
       "    <tr>\n",
       "      <th>mean</th>\n",
       "      <td>22.532806</td>\n",
       "    </tr>\n",
       "    <tr>\n",
       "      <th>std</th>\n",
       "      <td>9.197104</td>\n",
       "    </tr>\n",
       "    <tr>\n",
       "      <th>min</th>\n",
       "      <td>5.000000</td>\n",
       "    </tr>\n",
       "    <tr>\n",
       "      <th>25%</th>\n",
       "      <td>17.025000</td>\n",
       "    </tr>\n",
       "    <tr>\n",
       "      <th>50%</th>\n",
       "      <td>21.200000</td>\n",
       "    </tr>\n",
       "    <tr>\n",
       "      <th>75%</th>\n",
       "      <td>25.000000</td>\n",
       "    </tr>\n",
       "    <tr>\n",
       "      <th>max</th>\n",
       "      <td>50.000000</td>\n",
       "    </tr>\n",
       "  </tbody>\n",
       "</table>\n",
       "</div>"
      ],
      "text/plain": [
       "                0\n",
       "count  506.000000\n",
       "mean    22.532806\n",
       "std      9.197104\n",
       "min      5.000000\n",
       "25%     17.025000\n",
       "50%     21.200000\n",
       "75%     25.000000\n",
       "max     50.000000"
      ]
     },
     "execution_count": 102,
     "metadata": {},
     "output_type": "execute_result"
    }
   ],
   "source": [
    "y.describe()"
   ]
  },
  {
   "cell_type": "code",
   "execution_count": 103,
   "metadata": {},
   "outputs": [
    {
     "data": {
      "text/plain": [
       "Index(['CRIM', 'ZN', 'INDUS', 'CHAS', 'NOX', 'RM', 'AGE', 'DIS', 'RAD', 'TAX',\n",
       "       'PTRATIO', 'B', 'LSTAT'],\n",
       "      dtype='object')"
      ]
     },
     "execution_count": 103,
     "metadata": {},
     "output_type": "execute_result"
    }
   ],
   "source": [
    "X.columns"
   ]
  },
  {
   "cell_type": "code",
   "execution_count": 104,
   "metadata": {
    "scrolled": true
   },
   "outputs": [
    {
     "data": {
      "text/plain": [
       "array([296., 242., 222., 311., 307., 279., 252., 233., 243., 469., 226.,\n",
       "       313., 256., 284., 216., 337., 345., 305., 398., 281., 247., 270.,\n",
       "       276., 384., 432., 188., 437., 403., 193., 265., 255., 329., 402.,\n",
       "       348., 224., 277., 300., 330., 315., 244., 264., 223., 254., 198.,\n",
       "       285., 241., 293., 245., 289., 358., 304., 287., 430., 422., 370.,\n",
       "       352., 351., 280., 335., 411., 187., 334., 666., 711., 391., 273.])"
      ]
     },
     "execution_count": 104,
     "metadata": {},
     "output_type": "execute_result"
    }
   ],
   "source": [
    "pd.unique(X[\"TAX\"])"
   ]
  },
  {
   "cell_type": "code",
   "execution_count": 105,
   "metadata": {},
   "outputs": [
    {
     "name": "stdout",
     "output_type": "stream",
     "text": [
      "\n",
      "- CRIM     per capita crime rate by town\n",
      "- ZN       proportion of residential land zoned for lots over 25,000 sq.ft.\n",
      "- INDUS    proportion of non-retail business acres per town\n",
      "- CHAS     Charles River dummy variable (= 1 if tract bounds river; 0 otherwise)\n",
      "- NOX      nitric oxides concentration (parts per 10 million)\n",
      "- RM       average number of rooms per dwelling\n",
      "- AGE      proportion of owner-occupied units built prior to 1940\n",
      "- DIS      weighted distances to five Boston employment centres\n",
      "- RAD      index of accessibility to radial highways\n",
      "- TAX      full-value property-tax rate per $10,000\n",
      "- PTRATIO  pupil-teacher ratio by town\n",
      "- B        1000(Bk - 0.63)^2 where Bk is the proportion of blacks by town\n",
      "- LSTAT    % lower status of the population\n",
      "- MEDV     Median value of owner-occupied homes in $1000's\n",
      "\n"
     ]
    }
   ],
   "source": [
    "# Obtengo los significados de los anagramas\n",
    "\n",
    "# print(load_boston()[\"DESCR\"])\n",
    "\n",
    "print(\"\"\"\n",
    "- CRIM     per capita crime rate by town\n",
    "- ZN       proportion of residential land zoned for lots over 25,000 sq.ft.\n",
    "- INDUS    proportion of non-retail business acres per town\n",
    "- CHAS     Charles River dummy variable (= 1 if tract bounds river; 0 otherwise)\n",
    "- NOX      nitric oxides concentration (parts per 10 million)\n",
    "- RM       average number of rooms per dwelling\n",
    "- AGE      proportion of owner-occupied units built prior to 1940\n",
    "- DIS      weighted distances to five Boston employment centres\n",
    "- RAD      index of accessibility to radial highways\n",
    "- TAX      full-value property-tax rate per $10,000\n",
    "- PTRATIO  pupil-teacher ratio by town\n",
    "- B        1000(Bk - 0.63)^2 where Bk is the proportion of blacks by town\n",
    "- LSTAT    % lower status of the population\n",
    "- MEDV     Median value of owner-occupied homes in $1000's\n",
    "\"\"\")"
   ]
  },
  {
   "cell_type": "code",
   "execution_count": 48,
   "metadata": {},
   "outputs": [
    {
     "data": {
      "text/plain": [
       "LinearRegression()"
      ]
     },
     "execution_count": 48,
     "metadata": {},
     "output_type": "execute_result"
    }
   ],
   "source": [
    "# Documentación: https://scikit-learn.org/stable/modules/generated/sklearn.linear_model.LinearRegression.html\n",
    "\n",
    "# Regresión lineal: La línea que minimiza el error de los datos que tenemos.\n",
    "\n",
    "# La regresión lineal es un método estadístico que trata de modelar la relación entre una variable continua y una o más \n",
    "# variables independientes mediante el ajuste de una ecuación lineal. \n",
    "# Se llama regresión lineal simple cuando solo hay una variable independiente y regresión lineal múltiple cuando hay más de una.\n",
    "\n",
    "\n",
    "lm = LinearRegression(fit_intercept=True)\n",
    "\n",
    "lm"
   ]
  },
  {
   "cell_type": "code",
   "execution_count": 49,
   "metadata": {},
   "outputs": [
    {
     "data": {
      "text/plain": [
       "LinearRegression()"
      ]
     },
     "execution_count": 49,
     "metadata": {},
     "output_type": "execute_result"
    }
   ],
   "source": [
    "# Le pongo un fit para que el modelo aprenda automáticamente de la distribución\n",
    "\n",
    "lm.fit(X,y)"
   ]
  },
  {
   "cell_type": "code",
   "execution_count": 106,
   "metadata": {},
   "outputs": [
    {
     "data": {
      "text/plain": [
       "array([[-1.08011358e-01,  4.64204584e-02,  2.05586264e-02,\n",
       "         2.68673382e+00, -1.77666112e+01,  3.80986521e+00,\n",
       "         6.92224640e-04, -1.47556685e+00,  3.06049479e-01,\n",
       "        -1.23345939e-02, -9.52747232e-01,  9.31168327e-03,\n",
       "        -5.24758378e-01]])"
      ]
     },
     "execution_count": 106,
     "metadata": {},
     "output_type": "execute_result"
    }
   ],
   "source": [
    "# coef_ matriz de forma (n_features,) o (n_targets, n_features)\n",
    "\n",
    "# Coeficientes estimados para el problema de regresión lineal. \n",
    "# Si se pasan varios objetivos durante el ajuste (y 2D), \n",
    "# esta es una matriz 2D de forma (n_targets, n_features), \n",
    "# mientras que si solo se pasa un objetivo, \n",
    "# esta es una matriz 1D de longitud n_features.\n",
    "\n",
    "lm.coef_"
   ]
  },
  {
   "cell_type": "code",
   "execution_count": 108,
   "metadata": {},
   "outputs": [
    {
     "data": {
      "text/plain": [
       "array([36.45948839])"
      ]
     },
     "execution_count": 108,
     "metadata": {},
     "output_type": "execute_result"
    }
   ],
   "source": [
    "# intercept_ float o matriz de forma (n_targets,)\n",
    "\n",
    "# Término independiente en el modelo lineal. \n",
    "# Establecer en 0.0 si .fit_intercept = False\n",
    "\n",
    "\n",
    "lm.intercept_"
   ]
  },
  {
   "cell_type": "code",
   "execution_count": 112,
   "metadata": {},
   "outputs": [
    {
     "data": {
      "text/plain": [
       "array([[30.00384338],\n",
       "       [25.02556238],\n",
       "       [30.56759672],\n",
       "       [28.60703649],\n",
       "       [27.94352423],\n",
       "       [25.25628446],\n",
       "       [23.00180827],\n",
       "       [19.53598843],\n",
       "       [11.52363685],\n",
       "       [18.92026211],\n",
       "       [18.99949651],\n",
       "       [21.58679568],\n",
       "       [20.90652153],\n",
       "       [19.55290281],\n",
       "       [19.28348205],\n",
       "       [19.29748321],\n",
       "       [20.52750979],\n",
       "       [16.91140135],\n",
       "       [16.17801106],\n",
       "       [18.40613603],\n",
       "       [12.52385753],\n",
       "       [17.67103669],\n",
       "       [15.83288129],\n",
       "       [13.80628535],\n",
       "       [15.67833832],\n",
       "       [13.38668561],\n",
       "       [15.46397655],\n",
       "       [14.70847428],\n",
       "       [19.54737285],\n",
       "       [20.8764282 ],\n",
       "       [11.45511759],\n",
       "       [18.05923295],\n",
       "       [ 8.81105736],\n",
       "       [14.28275814],\n",
       "       [13.70675891],\n",
       "       [23.81463526],\n",
       "       [22.34193708],\n",
       "       [23.10891142],\n",
       "       [22.91502612],\n",
       "       [31.35762569],\n",
       "       [34.21510225],\n",
       "       [28.02056414],\n",
       "       [25.20386628],\n",
       "       [24.60979273],\n",
       "       [22.94149176],\n",
       "       [22.09669817],\n",
       "       [20.42320032],\n",
       "       [18.03655088],\n",
       "       [ 9.10655377],\n",
       "       [17.20607751],\n",
       "       [21.28152535],\n",
       "       [23.97222285],\n",
       "       [27.6558508 ],\n",
       "       [24.04901809],\n",
       "       [15.3618477 ],\n",
       "       [31.15264947],\n",
       "       [24.85686978],\n",
       "       [33.10919806],\n",
       "       [21.77537987],\n",
       "       [21.08493555],\n",
       "       [17.8725804 ],\n",
       "       [18.51110208],\n",
       "       [23.98742856],\n",
       "       [22.55408869],\n",
       "       [23.37308644],\n",
       "       [30.36148358],\n",
       "       [25.53056512],\n",
       "       [21.11338564],\n",
       "       [17.42153786],\n",
       "       [20.78483633],\n",
       "       [25.20148859],\n",
       "       [21.7426577 ],\n",
       "       [24.55744957],\n",
       "       [24.04295712],\n",
       "       [25.50499716],\n",
       "       [23.9669302 ],\n",
       "       [22.94545403],\n",
       "       [23.35699818],\n",
       "       [21.26198266],\n",
       "       [22.42817373],\n",
       "       [28.40576968],\n",
       "       [26.99486086],\n",
       "       [26.03576297],\n",
       "       [25.05873482],\n",
       "       [24.78456674],\n",
       "       [27.79049195],\n",
       "       [22.16853423],\n",
       "       [25.89276415],\n",
       "       [30.67461827],\n",
       "       [30.83110623],\n",
       "       [27.1190194 ],\n",
       "       [27.41266734],\n",
       "       [28.94122762],\n",
       "       [29.08105546],\n",
       "       [27.03977365],\n",
       "       [28.62459949],\n",
       "       [24.72744978],\n",
       "       [35.78159518],\n",
       "       [35.11454587],\n",
       "       [32.25102801],\n",
       "       [24.58022019],\n",
       "       [25.59413475],\n",
       "       [19.79013684],\n",
       "       [20.31167129],\n",
       "       [21.43482591],\n",
       "       [18.53994008],\n",
       "       [17.18755992],\n",
       "       [20.75049026],\n",
       "       [22.64829115],\n",
       "       [19.7720367 ],\n",
       "       [20.64965864],\n",
       "       [26.52586744],\n",
       "       [20.77323638],\n",
       "       [20.71548315],\n",
       "       [25.17208881],\n",
       "       [20.43025591],\n",
       "       [23.37724626],\n",
       "       [23.69043261],\n",
       "       [20.33578364],\n",
       "       [20.79180873],\n",
       "       [21.91632071],\n",
       "       [22.47107777],\n",
       "       [20.55738556],\n",
       "       [16.36661977],\n",
       "       [20.56099819],\n",
       "       [22.48178446],\n",
       "       [14.61706633],\n",
       "       [15.17876684],\n",
       "       [18.93868592],\n",
       "       [14.05573285],\n",
       "       [20.03527399],\n",
       "       [19.41013402],\n",
       "       [20.06191566],\n",
       "       [15.75807673],\n",
       "       [13.25645238],\n",
       "       [17.26277735],\n",
       "       [15.87841883],\n",
       "       [19.36163954],\n",
       "       [13.81483897],\n",
       "       [16.44881475],\n",
       "       [13.57141932],\n",
       "       [ 3.98885508],\n",
       "       [14.59495478],\n",
       "       [12.1488148 ],\n",
       "       [ 8.72822362],\n",
       "       [12.03585343],\n",
       "       [15.82082058],\n",
       "       [ 8.5149902 ],\n",
       "       [ 9.71844139],\n",
       "       [14.80451374],\n",
       "       [20.83858153],\n",
       "       [18.30101169],\n",
       "       [20.12282558],\n",
       "       [17.28601894],\n",
       "       [22.36600228],\n",
       "       [20.10375923],\n",
       "       [13.62125891],\n",
       "       [33.25982697],\n",
       "       [29.03017268],\n",
       "       [25.56752769],\n",
       "       [32.70827666],\n",
       "       [36.77467015],\n",
       "       [40.55765844],\n",
       "       [41.84728168],\n",
       "       [24.78867379],\n",
       "       [25.37889238],\n",
       "       [37.20347455],\n",
       "       [23.08748747],\n",
       "       [26.40273955],\n",
       "       [26.65382114],\n",
       "       [22.5551466 ],\n",
       "       [24.29082812],\n",
       "       [22.97657219],\n",
       "       [29.07194308],\n",
       "       [26.5219434 ],\n",
       "       [30.72209056],\n",
       "       [25.61669307],\n",
       "       [29.13740979],\n",
       "       [31.43571968],\n",
       "       [32.92231568],\n",
       "       [34.72440464],\n",
       "       [27.76552111],\n",
       "       [33.88787321],\n",
       "       [30.99238036],\n",
       "       [22.71820008],\n",
       "       [24.7664781 ],\n",
       "       [35.88497226],\n",
       "       [33.42476722],\n",
       "       [32.41199147],\n",
       "       [34.51509949],\n",
       "       [30.76109485],\n",
       "       [30.28934141],\n",
       "       [32.91918714],\n",
       "       [32.11260771],\n",
       "       [31.55871004],\n",
       "       [40.84555721],\n",
       "       [36.12770079],\n",
       "       [32.6692081 ],\n",
       "       [34.70469116],\n",
       "       [30.09345162],\n",
       "       [30.64393906],\n",
       "       [29.28719501],\n",
       "       [37.07148392],\n",
       "       [42.03193124],\n",
       "       [43.18949844],\n",
       "       [22.69034796],\n",
       "       [23.68284712],\n",
       "       [17.85447214],\n",
       "       [23.49428992],\n",
       "       [17.00587718],\n",
       "       [22.39251096],\n",
       "       [17.06042754],\n",
       "       [22.73892921],\n",
       "       [25.21942554],\n",
       "       [11.11916737],\n",
       "       [24.51049148],\n",
       "       [26.60334775],\n",
       "       [28.35518713],\n",
       "       [24.91525464],\n",
       "       [29.68652768],\n",
       "       [33.18419746],\n",
       "       [23.77456656],\n",
       "       [32.14051958],\n",
       "       [29.7458199 ],\n",
       "       [38.37102453],\n",
       "       [39.81461867],\n",
       "       [37.58605755],\n",
       "       [32.3995325 ],\n",
       "       [35.45665242],\n",
       "       [31.23411512],\n",
       "       [24.48449227],\n",
       "       [33.28837292],\n",
       "       [38.0481048 ],\n",
       "       [37.16328631],\n",
       "       [31.71383523],\n",
       "       [25.26705571],\n",
       "       [30.10010745],\n",
       "       [32.71987156],\n",
       "       [28.42717057],\n",
       "       [28.42940678],\n",
       "       [27.29375938],\n",
       "       [23.74262478],\n",
       "       [24.12007891],\n",
       "       [27.40208414],\n",
       "       [16.3285756 ],\n",
       "       [13.39891261],\n",
       "       [20.01638775],\n",
       "       [19.86184428],\n",
       "       [21.2883131 ],\n",
       "       [24.0798915 ],\n",
       "       [24.20633547],\n",
       "       [25.04215821],\n",
       "       [24.91964007],\n",
       "       [29.94563374],\n",
       "       [23.97228316],\n",
       "       [21.69580887],\n",
       "       [37.51109239],\n",
       "       [43.30239043],\n",
       "       [36.48361421],\n",
       "       [34.98988594],\n",
       "       [34.81211508],\n",
       "       [37.16631331],\n",
       "       [40.98928501],\n",
       "       [34.44634089],\n",
       "       [35.83397547],\n",
       "       [28.245743  ],\n",
       "       [31.22673593],\n",
       "       [40.8395575 ],\n",
       "       [39.31792393],\n",
       "       [25.70817905],\n",
       "       [22.30295533],\n",
       "       [27.20340972],\n",
       "       [28.51169472],\n",
       "       [35.47676598],\n",
       "       [36.10639164],\n",
       "       [33.79668274],\n",
       "       [35.61085858],\n",
       "       [34.83993382],\n",
       "       [30.35192656],\n",
       "       [35.30980701],\n",
       "       [38.79756966],\n",
       "       [34.33123186],\n",
       "       [40.33963075],\n",
       "       [44.67308339],\n",
       "       [31.59689086],\n",
       "       [27.3565923 ],\n",
       "       [20.10174154],\n",
       "       [27.04206674],\n",
       "       [27.2136458 ],\n",
       "       [26.91395839],\n",
       "       [33.43563311],\n",
       "       [34.40349633],\n",
       "       [31.8333982 ],\n",
       "       [25.81783237],\n",
       "       [24.42982348],\n",
       "       [28.45764337],\n",
       "       [27.36266999],\n",
       "       [19.53928758],\n",
       "       [29.11309844],\n",
       "       [31.91054611],\n",
       "       [30.77159449],\n",
       "       [28.94275871],\n",
       "       [28.88191022],\n",
       "       [32.79887232],\n",
       "       [33.20905456],\n",
       "       [30.76831792],\n",
       "       [35.56226857],\n",
       "       [32.70905124],\n",
       "       [28.64244237],\n",
       "       [23.58965827],\n",
       "       [18.54266897],\n",
       "       [26.87889843],\n",
       "       [23.28133979],\n",
       "       [25.54580246],\n",
       "       [25.48120057],\n",
       "       [20.53909901],\n",
       "       [17.61572573],\n",
       "       [18.37581686],\n",
       "       [24.29070277],\n",
       "       [21.32529039],\n",
       "       [24.88682244],\n",
       "       [24.86937282],\n",
       "       [22.86952447],\n",
       "       [19.45123791],\n",
       "       [25.11783401],\n",
       "       [24.66786913],\n",
       "       [23.68076177],\n",
       "       [19.34089616],\n",
       "       [21.17418105],\n",
       "       [24.25249073],\n",
       "       [21.59260894],\n",
       "       [19.98446605],\n",
       "       [23.33888   ],\n",
       "       [22.14060692],\n",
       "       [21.55509929],\n",
       "       [20.61872907],\n",
       "       [20.16097176],\n",
       "       [19.28490387],\n",
       "       [22.1667232 ],\n",
       "       [21.24965774],\n",
       "       [21.42939305],\n",
       "       [30.32788796],\n",
       "       [22.04734975],\n",
       "       [27.70647912],\n",
       "       [28.54794117],\n",
       "       [16.54501121],\n",
       "       [14.78359641],\n",
       "       [25.27380082],\n",
       "       [27.54205117],\n",
       "       [22.14837562],\n",
       "       [20.45944095],\n",
       "       [20.54605423],\n",
       "       [16.88063827],\n",
       "       [25.40253506],\n",
       "       [14.32486632],\n",
       "       [16.59488462],\n",
       "       [19.63704691],\n",
       "       [22.71806607],\n",
       "       [22.20218887],\n",
       "       [19.20548057],\n",
       "       [22.66616105],\n",
       "       [18.93192618],\n",
       "       [18.22846804],\n",
       "       [20.23150811],\n",
       "       [37.4944739 ],\n",
       "       [14.28190734],\n",
       "       [15.54286248],\n",
       "       [10.83162324],\n",
       "       [23.80072902],\n",
       "       [32.6440736 ],\n",
       "       [34.60684042],\n",
       "       [24.94331333],\n",
       "       [25.9998091 ],\n",
       "       [ 6.126325  ],\n",
       "       [ 0.77779806],\n",
       "       [25.30713064],\n",
       "       [17.74061065],\n",
       "       [20.23274414],\n",
       "       [15.83331301],\n",
       "       [16.83512587],\n",
       "       [14.36994825],\n",
       "       [18.47682833],\n",
       "       [13.4276828 ],\n",
       "       [13.06177512],\n",
       "       [ 3.27918116],\n",
       "       [ 8.06022171],\n",
       "       [ 6.12842196],\n",
       "       [ 5.6186481 ],\n",
       "       [ 6.4519857 ],\n",
       "       [14.20764735],\n",
       "       [17.21225183],\n",
       "       [17.29887265],\n",
       "       [ 9.89116643],\n",
       "       [20.22124193],\n",
       "       [17.94181175],\n",
       "       [20.30445783],\n",
       "       [19.29559075],\n",
       "       [16.33632779],\n",
       "       [ 6.55162319],\n",
       "       [10.89016778],\n",
       "       [11.88145871],\n",
       "       [17.81174507],\n",
       "       [18.26126587],\n",
       "       [12.97948781],\n",
       "       [ 7.37816361],\n",
       "       [ 8.21115861],\n",
       "       [ 8.06626193],\n",
       "       [19.98294786],\n",
       "       [13.70756369],\n",
       "       [19.85268454],\n",
       "       [15.22308298],\n",
       "       [16.96071981],\n",
       "       [ 1.71851807],\n",
       "       [11.80578387],\n",
       "       [-4.28131071],\n",
       "       [ 9.58376737],\n",
       "       [13.36660811],\n",
       "       [ 6.89562363],\n",
       "       [ 6.14779852],\n",
       "       [14.60661794],\n",
       "       [19.6000267 ],\n",
       "       [18.12427476],\n",
       "       [18.52177132],\n",
       "       [13.1752861 ],\n",
       "       [14.62617624],\n",
       "       [ 9.92374976],\n",
       "       [16.34590647],\n",
       "       [14.07519426],\n",
       "       [14.25756243],\n",
       "       [13.04234787],\n",
       "       [18.15955693],\n",
       "       [18.69554354],\n",
       "       [21.527283  ],\n",
       "       [17.03141861],\n",
       "       [15.96090435],\n",
       "       [13.36141611],\n",
       "       [14.52079384],\n",
       "       [ 8.81976005],\n",
       "       [ 4.86751102],\n",
       "       [13.06591313],\n",
       "       [12.70609699],\n",
       "       [17.29558059],\n",
       "       [18.740485  ],\n",
       "       [18.05901029],\n",
       "       [11.51474683],\n",
       "       [11.97400359],\n",
       "       [17.68344618],\n",
       "       [18.12695239],\n",
       "       [17.5183465 ],\n",
       "       [17.22742507],\n",
       "       [16.52271631],\n",
       "       [19.41291095],\n",
       "       [18.58215236],\n",
       "       [22.48944791],\n",
       "       [15.28000133],\n",
       "       [15.82089335],\n",
       "       [12.68725581],\n",
       "       [12.8763379 ],\n",
       "       [17.18668531],\n",
       "       [18.51247609],\n",
       "       [19.04860533],\n",
       "       [20.17208927],\n",
       "       [19.7740732 ],\n",
       "       [22.42940768],\n",
       "       [20.31911854],\n",
       "       [17.88616253],\n",
       "       [14.37478523],\n",
       "       [16.94776851],\n",
       "       [16.98405762],\n",
       "       [18.58838397],\n",
       "       [20.16719441],\n",
       "       [22.97718032],\n",
       "       [22.45580726],\n",
       "       [25.57824627],\n",
       "       [16.39147632],\n",
       "       [16.1114628 ],\n",
       "       [20.534816  ],\n",
       "       [11.54272738],\n",
       "       [19.20496304],\n",
       "       [21.86276391],\n",
       "       [23.46878866],\n",
       "       [27.09887315],\n",
       "       [28.56994302],\n",
       "       [21.08398783],\n",
       "       [19.45516196],\n",
       "       [22.22225914],\n",
       "       [19.65591961],\n",
       "       [21.32536104],\n",
       "       [11.85583717],\n",
       "       [ 8.22386687],\n",
       "       [ 3.66399672],\n",
       "       [13.75908538],\n",
       "       [15.93118545],\n",
       "       [20.62662054],\n",
       "       [20.61249414],\n",
       "       [16.88541964],\n",
       "       [14.01320787],\n",
       "       [19.10854144],\n",
       "       [21.29805174],\n",
       "       [18.45498841],\n",
       "       [20.46870847],\n",
       "       [23.53334055],\n",
       "       [22.37571892],\n",
       "       [27.6274261 ],\n",
       "       [26.12796681],\n",
       "       [22.34421229]])"
      ]
     },
     "execution_count": 112,
     "metadata": {},
     "output_type": "execute_result"
    }
   ],
   "source": [
    "y_pred = lm.predict(X)\n",
    "\n",
    "y_pred"
   ]
  },
  {
   "cell_type": "code",
   "execution_count": 116,
   "metadata": {},
   "outputs": [
    {
     "data": {
      "text/plain": [
       "0.7406426641094094"
      ]
     },
     "execution_count": 116,
     "metadata": {},
     "output_type": "execute_result"
    }
   ],
   "source": [
    "# La mejor puntuación posible es 1.0 y puede ser negativa \n",
    "# (porque el modelo puede ser arbitrariamente peor). \n",
    "# Un modelo constante que siempre predice el valor esperado de y, sin tener \n",
    "# en cuenta las características de entrada, obtendría una puntuación R ^ 2 de 0.0.\n",
    "\n",
    "r2 = r2_score(y_pred=y_pred, y_true=y)\n",
    "\n",
    "r2"
   ]
  },
  {
   "cell_type": "code",
   "execution_count": 119,
   "metadata": {},
   "outputs": [
    {
     "data": {
      "text/plain": [
       "4.679191295697282"
      ]
     },
     "execution_count": 119,
     "metadata": {},
     "output_type": "execute_result"
    }
   ],
   "source": [
    "# Calcula el error cuadrático medio. Pérdida de regresión del error cuadrático medio\n",
    "# y_pred = Valores objetivo estimados\n",
    "# y_true = Valores objetivo (correctos) de verdad de tierra\n",
    "\n",
    "rmse = mean_squared_error(y_pred=y_pred, y_true=y)**.5\n",
    "\n",
    "rmse"
   ]
  },
  {
   "cell_type": "code",
   "execution_count": 122,
   "metadata": {},
   "outputs": [
    {
     "data": {
      "text/plain": [
       "<matplotlib.axes._subplots.AxesSubplot at 0x1c4700ca5e0>"
      ]
     },
     "execution_count": 122,
     "metadata": {},
     "output_type": "execute_result"
    },
    {
     "data": {
      "image/png": "[encoded data removed]",
      "text/plain": [
       "<Figure size 432x288 with 2 Axes>"
      ]
     },
     "metadata": {
      "needs_background": "light"
     },
     "output_type": "display_data"
    }
   ],
   "source": [
    "sns.heatmap(pd.concat([X,y],axis=1).corr())"
   ]
  },
  {
   "cell_type": "code",
   "execution_count": 155,
   "metadata": {},
   "outputs": [
    {
     "data": {
      "text/plain": [
       "CRIM      -0.388305\n",
       "ZN         0.360445\n",
       "INDUS     -0.483725\n",
       "CHAS       0.175260\n",
       "NOX       -0.427321\n",
       "RM         0.695360\n",
       "AGE       -0.376955\n",
       "DIS        0.249929\n",
       "RAD       -0.381626\n",
       "TAX       -0.468536\n",
       "PTRATIO   -0.507787\n",
       "B          0.333461\n",
       "LSTAT     -0.737663\n",
       "Name: Y, dtype: float64"
      ]
     },
     "execution_count": 155,
     "metadata": {},
     "output_type": "execute_result"
    }
   ],
   "source": [
    "# Saco las correlación del dataset y lo meto en un variable llamada correlation, y cambio el nombre de la columna que tenia y por \"Y\"\n",
    "\n",
    "correlation = pd.concat([X,y],axis=1).corr()\n",
    "correlation.columns = ['CRIM', 'ZN', 'INDUS', 'CHAS','NOX', 'RM','AGE', 'DIS','RAD','TAX','PTRATIO','B','LSTAT',\"Y\"]\n",
    "\n",
    "# Selecciono las correlaciones sin incluir la y.\n",
    "\n",
    "todas = correlation[\"Y\"][:-1]\n",
    "\n",
    "todas"
   ]
  },
  {
   "cell_type": "code",
   "execution_count": 157,
   "metadata": {},
   "outputs": [
    {
     "data": {
      "text/plain": [
       "[-0.483725160028373,\n",
       " -0.4273207723732817,\n",
       " 0.6953599470715389,\n",
       " -0.46853593356776646,\n",
       " -0.507786685537561,\n",
       " -0.7376627261740143]"
      ]
     },
     "execution_count": 157,
     "metadata": {},
     "output_type": "execute_result"
    }
   ],
   "source": [
    "# Estas son las variables con mayor correlación.\n",
    "\n",
    "lst = [i for i in todas if i > 0.4 or i < -0.4]\n",
    "# lst2 = [i.index for i in todas if i > 0.4 or i < -0.4]\n",
    "lst"
   ]
  },
  {
   "cell_type": "code",
   "execution_count": 158,
   "metadata": {
    "scrolled": true
   },
   "outputs": [
    {
     "data": {
      "text/plain": [
       "CRIM      -0.388305\n",
       "ZN         0.360445\n",
       "INDUS     -0.483725\n",
       "CHAS       0.175260\n",
       "NOX       -0.427321\n",
       "RM         0.695360\n",
       "AGE       -0.376955\n",
       "DIS        0.249929\n",
       "RAD       -0.381626\n",
       "TAX       -0.468536\n",
       "PTRATIO   -0.507787\n",
       "B          0.333461\n",
       "LSTAT     -0.737663\n",
       "Name: Y, dtype: float64"
      ]
     },
     "execution_count": 158,
     "metadata": {},
     "output_type": "execute_result"
    }
   ],
   "source": [
    "# Veo los indices:\n",
    "    \n",
    "todas.index\n",
    "\n",
    "todas "
   ]
  },
  {
   "cell_type": "code",
   "execution_count": 159,
   "metadata": {},
   "outputs": [
    {
     "data": {
      "text/plain": [
       "Index(['INDUS', 'NOX', 'RM', 'TAX', 'PTRATIO', 'LSTAT'], dtype='object')"
      ]
     },
     "execution_count": 159,
     "metadata": {},
     "output_type": "execute_result"
    }
   ],
   "source": [
    "# Quito todas las columnas cuya correlación este por encima del absoluto de 0.4 (ya que tienen poca correlación)\n",
    "\n",
    "df = X[todas[abs(todas)>0.40].index]\n",
    "\n",
    "todas[abs(todas)>0.40].index"
   ]
  },
  {
   "cell_type": "code",
   "execution_count": 160,
   "metadata": {
    "scrolled": true
   },
   "outputs": [
    {
     "data": {
      "text/html": [
       "<div>\n",
       "<style scoped>\n",
       "    .dataframe tbody tr th:only-of-type {\n",
       "        vertical-align: middle;\n",
       "    }\n",
       "\n",
       "    .dataframe tbody tr th {\n",
       "        vertical-align: top;\n",
       "    }\n",
       "\n",
       "    .dataframe thead th {\n",
       "        text-align: right;\n",
       "    }\n",
       "</style>\n",
       "<table border=\"1\" class=\"dataframe\">\n",
       "  <thead>\n",
       "    <tr style=\"text-align: right;\">\n",
       "      <th></th>\n",
       "      <th>INDUS</th>\n",
       "      <th>NOX</th>\n",
       "      <th>RM</th>\n",
       "      <th>TAX</th>\n",
       "      <th>PTRATIO</th>\n",
       "      <th>LSTAT</th>\n",
       "    </tr>\n",
       "  </thead>\n",
       "  <tbody>\n",
       "    <tr>\n",
       "      <th>0</th>\n",
       "      <td>2.31</td>\n",
       "      <td>0.538</td>\n",
       "      <td>6.575</td>\n",
       "      <td>296.0</td>\n",
       "      <td>15.3</td>\n",
       "      <td>4.98</td>\n",
       "    </tr>\n",
       "    <tr>\n",
       "      <th>1</th>\n",
       "      <td>7.07</td>\n",
       "      <td>0.469</td>\n",
       "      <td>6.421</td>\n",
       "      <td>242.0</td>\n",
       "      <td>17.8</td>\n",
       "      <td>9.14</td>\n",
       "    </tr>\n",
       "    <tr>\n",
       "      <th>2</th>\n",
       "      <td>7.07</td>\n",
       "      <td>0.469</td>\n",
       "      <td>7.185</td>\n",
       "      <td>242.0</td>\n",
       "      <td>17.8</td>\n",
       "      <td>4.03</td>\n",
       "    </tr>\n",
       "    <tr>\n",
       "      <th>3</th>\n",
       "      <td>2.18</td>\n",
       "      <td>0.458</td>\n",
       "      <td>6.998</td>\n",
       "      <td>222.0</td>\n",
       "      <td>18.7</td>\n",
       "      <td>2.94</td>\n",
       "    </tr>\n",
       "    <tr>\n",
       "      <th>4</th>\n",
       "      <td>2.18</td>\n",
       "      <td>0.458</td>\n",
       "      <td>7.147</td>\n",
       "      <td>222.0</td>\n",
       "      <td>18.7</td>\n",
       "      <td>5.33</td>\n",
       "    </tr>\n",
       "    <tr>\n",
       "      <th>...</th>\n",
       "      <td>...</td>\n",
       "      <td>...</td>\n",
       "      <td>...</td>\n",
       "      <td>...</td>\n",
       "      <td>...</td>\n",
       "      <td>...</td>\n",
       "    </tr>\n",
       "    <tr>\n",
       "      <th>501</th>\n",
       "      <td>11.93</td>\n",
       "      <td>0.573</td>\n",
       "      <td>6.593</td>\n",
       "      <td>273.0</td>\n",
       "      <td>21.0</td>\n",
       "      <td>9.67</td>\n",
       "    </tr>\n",
       "    <tr>\n",
       "      <th>502</th>\n",
       "      <td>11.93</td>\n",
       "      <td>0.573</td>\n",
       "      <td>6.120</td>\n",
       "      <td>273.0</td>\n",
       "      <td>21.0</td>\n",
       "      <td>9.08</td>\n",
       "    </tr>\n",
       "    <tr>\n",
       "      <th>503</th>\n",
       "      <td>11.93</td>\n",
       "      <td>0.573</td>\n",
       "      <td>6.976</td>\n",
       "      <td>273.0</td>\n",
       "      <td>21.0</td>\n",
       "      <td>5.64</td>\n",
       "    </tr>\n",
       "    <tr>\n",
       "      <th>504</th>\n",
       "      <td>11.93</td>\n",
       "      <td>0.573</td>\n",
       "      <td>6.794</td>\n",
       "      <td>273.0</td>\n",
       "      <td>21.0</td>\n",
       "      <td>6.48</td>\n",
       "    </tr>\n",
       "    <tr>\n",
       "      <th>505</th>\n",
       "      <td>11.93</td>\n",
       "      <td>0.573</td>\n",
       "      <td>6.030</td>\n",
       "      <td>273.0</td>\n",
       "      <td>21.0</td>\n",
       "      <td>7.88</td>\n",
       "    </tr>\n",
       "  </tbody>\n",
       "</table>\n",
       "<p>506 rows × 6 columns</p>\n",
       "</div>"
      ],
      "text/plain": [
       "     INDUS    NOX     RM    TAX  PTRATIO  LSTAT\n",
       "0     2.31  0.538  6.575  296.0     15.3   4.98\n",
       "1     7.07  0.469  6.421  242.0     17.8   9.14\n",
       "2     7.07  0.469  7.185  242.0     17.8   4.03\n",
       "3     2.18  0.458  6.998  222.0     18.7   2.94\n",
       "4     2.18  0.458  7.147  222.0     18.7   5.33\n",
       "..     ...    ...    ...    ...      ...    ...\n",
       "501  11.93  0.573  6.593  273.0     21.0   9.67\n",
       "502  11.93  0.573  6.120  273.0     21.0   9.08\n",
       "503  11.93  0.573  6.976  273.0     21.0   5.64\n",
       "504  11.93  0.573  6.794  273.0     21.0   6.48\n",
       "505  11.93  0.573  6.030  273.0     21.0   7.88\n",
       "\n",
       "[506 rows x 6 columns]"
      ]
     },
     "execution_count": 160,
     "metadata": {},
     "output_type": "execute_result"
    }
   ],
   "source": [
    "df"
   ]
  },
  {
   "cell_type": "code",
   "execution_count": 156,
   "metadata": {},
   "outputs": [
    {
     "data": {
      "text/plain": [
       "<matplotlib.axes._subplots.AxesSubplot at 0x1c47025b8e0>"
      ]
     },
     "execution_count": 156,
     "metadata": {},
     "output_type": "execute_result"
    },
    {
     "data": {
      "image/png": "[encoded data removed]",
      "text/plain": [
       "<Figure size 432x288 with 2 Axes>"
      ]
     },
     "metadata": {
      "needs_background": "light"
     },
     "output_type": "display_data"
    }
   ],
   "source": [
    "sns.heatmap(pd.concat([df,y],axis=1).corr())"
   ]
  },
  {
   "cell_type": "code",
   "execution_count": null,
   "metadata": {},
   "outputs": [],
   "source": [
    "# No hay colinealidad \n",
    "\n",
    "# Existe solo si el coeficiente de correlación simple o múltiple entre algunas de las variables independientes es 1, esto raramente ocurre en la realidad.\n",
    "\n",
    "# EJ: Salario por año y salario por mes"
   ]
  },
  {
   "cell_type": "code",
   "execution_count": 164,
   "metadata": {},
   "outputs": [
    {
     "name": "stdout",
     "output_type": "stream",
     "text": [
      "Ejemplos usados para entrenar:  354\n",
      "Ejemplos usados para test:  152\n"
     ]
    }
   ],
   "source": [
    "# División de los datos train y test\n",
    "\n",
    "# Documentación\n",
    "\n",
    "# Si quito el test_size por defecto es 0.25\n",
    "\n",
    "train, test = train_test_split(df, test_size = 0.30)\n",
    "\n",
    "print(\"Ejemplos usados para entrenar: \", len(train))\n",
    "print(\"Ejemplos usados para test: \", len(test))\n",
    "\n"
   ]
  },
  {
   "cell_type": "code",
   "execution_count": 166,
   "metadata": {},
   "outputs": [
    {
     "data": {
      "text/html": [
       "<div>\n",
       "<style scoped>\n",
       "    .dataframe tbody tr th:only-of-type {\n",
       "        vertical-align: middle;\n",
       "    }\n",
       "\n",
       "    .dataframe tbody tr th {\n",
       "        vertical-align: top;\n",
       "    }\n",
       "\n",
       "    .dataframe thead th {\n",
       "        text-align: right;\n",
       "    }\n",
       "</style>\n",
       "<table border=\"1\" class=\"dataframe\">\n",
       "  <thead>\n",
       "    <tr style=\"text-align: right;\">\n",
       "      <th></th>\n",
       "      <th>INDUS</th>\n",
       "      <th>NOX</th>\n",
       "      <th>RM</th>\n",
       "      <th>TAX</th>\n",
       "      <th>PTRATIO</th>\n",
       "      <th>LSTAT</th>\n",
       "    </tr>\n",
       "  </thead>\n",
       "  <tbody>\n",
       "    <tr>\n",
       "      <th>173</th>\n",
       "      <td>4.05</td>\n",
       "      <td>0.510</td>\n",
       "      <td>6.416</td>\n",
       "      <td>296.0</td>\n",
       "      <td>16.6</td>\n",
       "      <td>9.04</td>\n",
       "    </tr>\n",
       "    <tr>\n",
       "      <th>305</th>\n",
       "      <td>2.18</td>\n",
       "      <td>0.472</td>\n",
       "      <td>6.616</td>\n",
       "      <td>222.0</td>\n",
       "      <td>18.4</td>\n",
       "      <td>8.93</td>\n",
       "    </tr>\n",
       "    <tr>\n",
       "      <th>340</th>\n",
       "      <td>5.19</td>\n",
       "      <td>0.515</td>\n",
       "      <td>5.968</td>\n",
       "      <td>224.0</td>\n",
       "      <td>20.2</td>\n",
       "      <td>9.29</td>\n",
       "    </tr>\n",
       "    <tr>\n",
       "      <th>343</th>\n",
       "      <td>3.78</td>\n",
       "      <td>0.484</td>\n",
       "      <td>6.696</td>\n",
       "      <td>370.0</td>\n",
       "      <td>17.6</td>\n",
       "      <td>7.18</td>\n",
       "    </tr>\n",
       "    <tr>\n",
       "      <th>185</th>\n",
       "      <td>2.46</td>\n",
       "      <td>0.488</td>\n",
       "      <td>6.153</td>\n",
       "      <td>193.0</td>\n",
       "      <td>17.8</td>\n",
       "      <td>13.15</td>\n",
       "    </tr>\n",
       "  </tbody>\n",
       "</table>\n",
       "</div>"
      ],
      "text/plain": [
       "     INDUS    NOX     RM    TAX  PTRATIO  LSTAT\n",
       "173   4.05  0.510  6.416  296.0     16.6   9.04\n",
       "305   2.18  0.472  6.616  222.0     18.4   8.93\n",
       "340   5.19  0.515  5.968  224.0     20.2   9.29\n",
       "343   3.78  0.484  6.696  370.0     17.6   7.18\n",
       "185   2.46  0.488  6.153  193.0     17.8  13.15"
      ]
     },
     "execution_count": 166,
     "metadata": {},
     "output_type": "execute_result"
    }
   ],
   "source": [
    "train.head()"
   ]
  },
  {
   "cell_type": "code",
   "execution_count": 167,
   "metadata": {},
   "outputs": [
    {
     "data": {
      "text/html": [
       "<div>\n",
       "<style scoped>\n",
       "    .dataframe tbody tr th:only-of-type {\n",
       "        vertical-align: middle;\n",
       "    }\n",
       "\n",
       "    .dataframe tbody tr th {\n",
       "        vertical-align: top;\n",
       "    }\n",
       "\n",
       "    .dataframe thead th {\n",
       "        text-align: right;\n",
       "    }\n",
       "</style>\n",
       "<table border=\"1\" class=\"dataframe\">\n",
       "  <thead>\n",
       "    <tr style=\"text-align: right;\">\n",
       "      <th></th>\n",
       "      <th>INDUS</th>\n",
       "      <th>NOX</th>\n",
       "      <th>RM</th>\n",
       "      <th>TAX</th>\n",
       "      <th>PTRATIO</th>\n",
       "      <th>LSTAT</th>\n",
       "    </tr>\n",
       "  </thead>\n",
       "  <tbody>\n",
       "    <tr>\n",
       "      <th>332</th>\n",
       "      <td>6.06</td>\n",
       "      <td>0.4379</td>\n",
       "      <td>6.031</td>\n",
       "      <td>304.0</td>\n",
       "      <td>16.9</td>\n",
       "      <td>7.83</td>\n",
       "    </tr>\n",
       "    <tr>\n",
       "      <th>42</th>\n",
       "      <td>6.91</td>\n",
       "      <td>0.4480</td>\n",
       "      <td>6.169</td>\n",
       "      <td>233.0</td>\n",
       "      <td>17.9</td>\n",
       "      <td>5.81</td>\n",
       "    </tr>\n",
       "    <tr>\n",
       "      <th>125</th>\n",
       "      <td>25.65</td>\n",
       "      <td>0.5810</td>\n",
       "      <td>5.986</td>\n",
       "      <td>188.0</td>\n",
       "      <td>19.1</td>\n",
       "      <td>14.81</td>\n",
       "    </tr>\n",
       "    <tr>\n",
       "      <th>170</th>\n",
       "      <td>19.58</td>\n",
       "      <td>0.6050</td>\n",
       "      <td>5.875</td>\n",
       "      <td>403.0</td>\n",
       "      <td>14.7</td>\n",
       "      <td>14.43</td>\n",
       "    </tr>\n",
       "    <tr>\n",
       "      <th>359</th>\n",
       "      <td>18.10</td>\n",
       "      <td>0.7700</td>\n",
       "      <td>6.112</td>\n",
       "      <td>666.0</td>\n",
       "      <td>20.2</td>\n",
       "      <td>12.67</td>\n",
       "    </tr>\n",
       "  </tbody>\n",
       "</table>\n",
       "</div>"
      ],
      "text/plain": [
       "     INDUS     NOX     RM    TAX  PTRATIO  LSTAT\n",
       "332   6.06  0.4379  6.031  304.0     16.9   7.83\n",
       "42    6.91  0.4480  6.169  233.0     17.9   5.81\n",
       "125  25.65  0.5810  5.986  188.0     19.1  14.81\n",
       "170  19.58  0.6050  5.875  403.0     14.7  14.43\n",
       "359  18.10  0.7700  6.112  666.0     20.2  12.67"
      ]
     },
     "execution_count": 167,
     "metadata": {},
     "output_type": "execute_result"
    }
   ],
   "source": [
    "test.head()"
   ]
  },
  {
   "cell_type": "code",
   "execution_count": 168,
   "metadata": {},
   "outputs": [
    {
     "data": {
      "text/plain": [
       "LinearRegression()"
      ]
     },
     "execution_count": 168,
     "metadata": {},
     "output_type": "execute_result"
    }
   ],
   "source": [
    "lm = LinearRegression(fit_intercept=True)\n",
    "\n",
    "lm"
   ]
  },
  {
   "cell_type": "code",
   "execution_count": null,
   "metadata": {},
   "outputs": [],
   "source": [
    "lm.fit(X,y)"
   ]
  },
  {
   "cell_type": "code",
   "execution_count": null,
   "metadata": {},
   "outputs": [],
   "source": []
  },
  {
   "cell_type": "code",
   "execution_count": null,
   "metadata": {},
   "outputs": [],
   "source": []
  },
  {
   "cell_type": "markdown",
   "metadata": {},
   "source": [
    "### Further resources\n",
    "\n",
    "- [The internet is your friend](https://towardsdatascience.com/simple-and-multiple-linear-regression-with-python-c9ab422ec29c)\n",
    "- [Scikit-Learn](https://scikit-learn.org)\n",
    "- [Statsmodels](https://statsmodels.org)"
   ]
  }
 ],
 "metadata": {
  "kernelspec": {
   "display_name": "Python 3",
   "language": "python",
   "name": "python3"
  },
  "language_info": {
   "codemirror_mode": {
    "name": "ipython",
    "version": 3
   },
   "file_extension": ".py",
   "mimetype": "text/x-python",
   "name": "python",
   "nbconvert_exporter": "python",
   "pygments_lexer": "ipython3",
   "version": "3.8.3"
  }
 },
 "nbformat": 4,
 "nbformat_minor": 4
}
